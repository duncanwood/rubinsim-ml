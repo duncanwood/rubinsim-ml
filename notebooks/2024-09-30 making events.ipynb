{
 "cells": [
  {
   "cell_type": "code",
   "execution_count": 29,
   "metadata": {},
   "outputs": [],
   "source": [
    "import pandas as pd\n",
    "import numpy as np\n",
    "import csv\n",
    "import glob\n",
    "import pickle\n"
   ]
  },
  {
   "cell_type": "code",
   "execution_count": 2,
   "metadata": {},
   "outputs": [
    {
     "name": "stderr",
     "output_type": "stream",
     "text": [
      "/Users/duncan/Documents/code/physics/repos/rubin_sim/rubin_sim/utils/__init__.py:6: DeprecationWarning: rubin_sim.utils is deprecated, switch to rubin_scheduler.utils\n",
      "  warnings.warn(\"rubin_sim.utils is deprecated, switch to rubin_scheduler.utils\", DeprecationWarning)\n"
     ]
    }
   ],
   "source": [
    "import rubinml"
   ]
  },
  {
   "cell_type": "code",
   "execution_count": 3,
   "metadata": {},
   "outputs": [],
   "source": [
    "%reload_ext autoreload\n",
    "%autoreload 2"
   ]
  },
  {
   "cell_type": "code",
   "execution_count": 4,
   "metadata": {},
   "outputs": [],
   "source": [
    "basedir = '/Volumes/thesis/rubin-sim/userdata/opsim_ml/'"
   ]
  },
  {
   "cell_type": "code",
   "execution_count": 5,
   "metadata": {},
   "outputs": [],
   "source": [
    "sources = pd.read_parquet(basedir+\"rand_tristar_10_000_000.parquet\")"
   ]
  },
  {
   "cell_type": "code",
   "execution_count": 6,
   "metadata": {},
   "outputs": [
    {
     "data": {
      "text/html": [
       "<div>\n",
       "<style scoped>\n",
       "    .dataframe tbody tr th:only-of-type {\n",
       "        vertical-align: middle;\n",
       "    }\n",
       "\n",
       "    .dataframe tbody tr th {\n",
       "        vertical-align: top;\n",
       "    }\n",
       "\n",
       "    .dataframe thead th {\n",
       "        text-align: right;\n",
       "    }\n",
       "</style>\n",
       "<table border=\"1\" class=\"dataframe\">\n",
       "  <thead>\n",
       "    <tr style=\"text-align: right;\">\n",
       "      <th></th>\n",
       "      <th>ra</th>\n",
       "      <th>dec</th>\n",
       "      <th>gall</th>\n",
       "      <th>galb</th>\n",
       "      <th>umag</th>\n",
       "      <th>gmag</th>\n",
       "      <th>rmag</th>\n",
       "      <th>imag</th>\n",
       "      <th>zmag</th>\n",
       "      <th>ymag</th>\n",
       "      <th>mu0</th>\n",
       "    </tr>\n",
       "  </thead>\n",
       "  <tbody>\n",
       "    <tr>\n",
       "      <th>0</th>\n",
       "      <td>34.566226</td>\n",
       "      <td>23.525654</td>\n",
       "      <td>147.444559</td>\n",
       "      <td>-35.179429</td>\n",
       "      <td>28.313999</td>\n",
       "      <td>26.914000</td>\n",
       "      <td>26.219000</td>\n",
       "      <td>25.916000</td>\n",
       "      <td>25.766001</td>\n",
       "      <td>25.690001</td>\n",
       "      <td>19.000000</td>\n",
       "    </tr>\n",
       "    <tr>\n",
       "      <th>1</th>\n",
       "      <td>36.025192</td>\n",
       "      <td>22.812159</td>\n",
       "      <td>149.301023</td>\n",
       "      <td>-35.270543</td>\n",
       "      <td>24.799000</td>\n",
       "      <td>22.309999</td>\n",
       "      <td>21.023001</td>\n",
       "      <td>20.452999</td>\n",
       "      <td>20.155001</td>\n",
       "      <td>19.990999</td>\n",
       "      <td>10.150000</td>\n",
       "    </tr>\n",
       "    <tr>\n",
       "      <th>2</th>\n",
       "      <td>98.822227</td>\n",
       "      <td>-35.500170</td>\n",
       "      <td>244.073226</td>\n",
       "      <td>-18.409377</td>\n",
       "      <td>29.150000</td>\n",
       "      <td>27.313000</td>\n",
       "      <td>26.385000</td>\n",
       "      <td>25.962999</td>\n",
       "      <td>25.740000</td>\n",
       "      <td>25.622000</td>\n",
       "      <td>17.549999</td>\n",
       "    </tr>\n",
       "    <tr>\n",
       "      <th>3</th>\n",
       "      <td>131.407899</td>\n",
       "      <td>-36.542669</td>\n",
       "      <td>257.902052</td>\n",
       "      <td>4.026084</td>\n",
       "      <td>29.433001</td>\n",
       "      <td>26.507999</td>\n",
       "      <td>24.863001</td>\n",
       "      <td>24.051001</td>\n",
       "      <td>23.538000</td>\n",
       "      <td>23.254999</td>\n",
       "      <td>14.400000</td>\n",
       "    </tr>\n",
       "    <tr>\n",
       "      <th>4</th>\n",
       "      <td>122.910304</td>\n",
       "      <td>-24.064698</td>\n",
       "      <td>243.452134</td>\n",
       "      <td>5.317767</td>\n",
       "      <td>30.898001</td>\n",
       "      <td>27.591999</td>\n",
       "      <td>26.065001</td>\n",
       "      <td>24.375999</td>\n",
       "      <td>23.569000</td>\n",
       "      <td>23.153999</td>\n",
       "      <td>13.000000</td>\n",
       "    </tr>\n",
       "    <tr>\n",
       "      <th>...</th>\n",
       "      <td>...</td>\n",
       "      <td>...</td>\n",
       "      <td>...</td>\n",
       "      <td>...</td>\n",
       "      <td>...</td>\n",
       "      <td>...</td>\n",
       "      <td>...</td>\n",
       "      <td>...</td>\n",
       "      <td>...</td>\n",
       "      <td>...</td>\n",
       "      <td>...</td>\n",
       "    </tr>\n",
       "    <tr>\n",
       "      <th>9993233</th>\n",
       "      <td>80.544770</td>\n",
       "      <td>-69.065555</td>\n",
       "      <td>279.682498</td>\n",
       "      <td>-33.135707</td>\n",
       "      <td>22.068001</td>\n",
       "      <td>20.915001</td>\n",
       "      <td>20.589001</td>\n",
       "      <td>20.495001</td>\n",
       "      <td>20.465000</td>\n",
       "      <td>20.445999</td>\n",
       "      <td>18.473000</td>\n",
       "    </tr>\n",
       "    <tr>\n",
       "      <th>9993234</th>\n",
       "      <td>78.616045</td>\n",
       "      <td>-66.435861</td>\n",
       "      <td>276.735701</td>\n",
       "      <td>-34.336724</td>\n",
       "      <td>23.424999</td>\n",
       "      <td>22.450001</td>\n",
       "      <td>22.247000</td>\n",
       "      <td>22.207001</td>\n",
       "      <td>22.212000</td>\n",
       "      <td>22.214001</td>\n",
       "      <td>18.420000</td>\n",
       "    </tr>\n",
       "    <tr>\n",
       "      <th>9993235</th>\n",
       "      <td>75.220742</td>\n",
       "      <td>-68.406481</td>\n",
       "      <td>279.428426</td>\n",
       "      <td>-35.164288</td>\n",
       "      <td>30.923000</td>\n",
       "      <td>28.507000</td>\n",
       "      <td>27.284000</td>\n",
       "      <td>26.740000</td>\n",
       "      <td>26.448000</td>\n",
       "      <td>26.285999</td>\n",
       "      <td>18.424000</td>\n",
       "    </tr>\n",
       "    <tr>\n",
       "      <th>9993236</th>\n",
       "      <td>72.833432</td>\n",
       "      <td>-65.477024</td>\n",
       "      <td>276.248054</td>\n",
       "      <td>-36.848095</td>\n",
       "      <td>24.856001</td>\n",
       "      <td>23.809000</td>\n",
       "      <td>23.344000</td>\n",
       "      <td>23.153999</td>\n",
       "      <td>23.059000</td>\n",
       "      <td>23.017000</td>\n",
       "      <td>18.356001</td>\n",
       "    </tr>\n",
       "    <tr>\n",
       "      <th>9993237</th>\n",
       "      <td>4.685350</td>\n",
       "      <td>-71.778981</td>\n",
       "      <td>306.544197</td>\n",
       "      <td>-45.119244</td>\n",
       "      <td>25.635000</td>\n",
       "      <td>24.705999</td>\n",
       "      <td>24.403999</td>\n",
       "      <td>24.306999</td>\n",
       "      <td>24.278999</td>\n",
       "      <td>24.271999</td>\n",
       "      <td>19.878000</td>\n",
       "    </tr>\n",
       "  </tbody>\n",
       "</table>\n",
       "<p>9993238 rows × 11 columns</p>\n",
       "</div>"
      ],
      "text/plain": [
       "                 ra        dec        gall       galb       umag       gmag  \\\n",
       "0         34.566226  23.525654  147.444559 -35.179429  28.313999  26.914000   \n",
       "1         36.025192  22.812159  149.301023 -35.270543  24.799000  22.309999   \n",
       "2         98.822227 -35.500170  244.073226 -18.409377  29.150000  27.313000   \n",
       "3        131.407899 -36.542669  257.902052   4.026084  29.433001  26.507999   \n",
       "4        122.910304 -24.064698  243.452134   5.317767  30.898001  27.591999   \n",
       "...             ...        ...         ...        ...        ...        ...   \n",
       "9993233   80.544770 -69.065555  279.682498 -33.135707  22.068001  20.915001   \n",
       "9993234   78.616045 -66.435861  276.735701 -34.336724  23.424999  22.450001   \n",
       "9993235   75.220742 -68.406481  279.428426 -35.164288  30.923000  28.507000   \n",
       "9993236   72.833432 -65.477024  276.248054 -36.848095  24.856001  23.809000   \n",
       "9993237    4.685350 -71.778981  306.544197 -45.119244  25.635000  24.705999   \n",
       "\n",
       "              rmag       imag       zmag       ymag        mu0  \n",
       "0        26.219000  25.916000  25.766001  25.690001  19.000000  \n",
       "1        21.023001  20.452999  20.155001  19.990999  10.150000  \n",
       "2        26.385000  25.962999  25.740000  25.622000  17.549999  \n",
       "3        24.863001  24.051001  23.538000  23.254999  14.400000  \n",
       "4        26.065001  24.375999  23.569000  23.153999  13.000000  \n",
       "...            ...        ...        ...        ...        ...  \n",
       "9993233  20.589001  20.495001  20.465000  20.445999  18.473000  \n",
       "9993234  22.247000  22.207001  22.212000  22.214001  18.420000  \n",
       "9993235  27.284000  26.740000  26.448000  26.285999  18.424000  \n",
       "9993236  23.344000  23.153999  23.059000  23.017000  18.356001  \n",
       "9993237  24.403999  24.306999  24.278999  24.271999  19.878000  \n",
       "\n",
       "[9993238 rows x 11 columns]"
      ]
     },
     "execution_count": 6,
     "metadata": {},
     "output_type": "execute_result"
    }
   ],
   "source": [
    "sources"
   ]
  },
  {
   "cell_type": "code",
   "execution_count": 8,
   "metadata": {},
   "outputs": [
    {
     "name": "stdout",
     "output_type": "stream",
     "text": [
      "opened /Volumes/thesis/rubin-sim/userdata/opsim_ml/rates_ml_rates_1718083107_te-True_ut-5 copy.csv\n"
     ]
    }
   ],
   "source": [
    "rates_file = '/Volumes/thesis/rubin-sim/userdata/opsim_ml/rates_ml_rates_1718083107_te-True_ut-5 copy.csv'\n",
    "rates= {}\n",
    "with open(rates_file, 'r') as f:\n",
    "        print(f'opened {rates_file}')\n",
    "        reader = csv.reader(f)\n",
    "        next(reader) #skip header\n",
    "        for line in reader:\n",
    "            rates[tuple(float(_) for _ in line[:-1])]=float(line[-1])\n"
   ]
  },
  {
   "cell_type": "code",
   "execution_count": 10,
   "metadata": {},
   "outputs": [
    {
     "name": "stdout",
     "output_type": "stream",
     "text": [
      "336265\n"
     ]
    }
   ],
   "source": [
    "n_tristar = 11433322690\n",
    "n_survey_events = round(sum(rates.values())*n_tristar/len(rates.values())*24*365*10)\n",
    "print(n_survey_events)"
   ]
  },
  {
   "cell_type": "code",
   "execution_count": 7,
   "metadata": {},
   "outputs": [
    {
     "data": {
      "text/plain": [
       "<module 'rubinml' from '/Users/duncan/Documents/code/physics/microlensing/rubin-sim-ml/rubinml/rubinml/__init__.py'>"
      ]
     },
     "execution_count": 7,
     "metadata": {},
     "output_type": "execute_result"
    }
   ],
   "source": [
    "import importlib\n",
    "importlib.reload(rubinml)"
   ]
  },
  {
   "cell_type": "code",
   "execution_count": 15,
   "metadata": {},
   "outputs": [
    {
     "data": {
      "text/plain": [
       "'2.0000'"
      ]
     },
     "execution_count": 15,
     "metadata": {},
     "output_type": "execute_result"
    }
   ],
   "source": [
    "f'{2.:0.04f}'"
   ]
  },
  {
   "cell_type": "code",
   "execution_count": null,
   "metadata": {},
   "outputs": [],
   "source": []
  },
  {
   "cell_type": "code",
   "execution_count": 27,
   "metadata": {},
   "outputs": [
    {
     "data": {
      "application/vnd.jupyter.widget-view+json": {
       "model_id": "be3f445330a34f6982ee7f1cd3d92f1c",
       "version_major": 2,
       "version_minor": 0
      },
      "text/plain": [
       "  0%|          | 0/21000 [00:00<?, ?it/s]"
      ]
     },
     "metadata": {},
     "output_type": "display_data"
    },
    {
     "data": {
      "application/vnd.jupyter.widget-view+json": {
       "model_id": "fe60a71168b545ccb772808b40ded5b6",
       "version_major": 2,
       "version_minor": 0
      },
      "text/plain": [
       "  0%|          | 0/21000 [00:00<?, ?it/s]"
      ]
     },
     "metadata": {},
     "output_type": "display_data"
    },
    {
     "data": {
      "application/vnd.jupyter.widget-view+json": {
       "model_id": "cd9796745c3e426ea47992d970559f29",
       "version_major": 2,
       "version_minor": 0
      },
      "text/plain": [
       "  0%|          | 0/21000 [00:00<?, ?it/s]"
      ]
     },
     "metadata": {},
     "output_type": "display_data"
    },
    {
     "data": {
      "application/vnd.jupyter.widget-view+json": {
       "model_id": "7c07e45ff06f4b79b88f733a29db95b7",
       "version_major": 2,
       "version_minor": 0
      },
      "text/plain": [
       "  0%|          | 0/21000 [00:00<?, ?it/s]"
      ]
     },
     "metadata": {},
     "output_type": "display_data"
    }
   ],
   "source": [
    "masses = [0.1,1,10,100]\n",
    "for mass in masses:\n",
    "  events = rubinml.events.make_events(sources, \n",
    "    basedir+f'/test/ml_events_1k_{mass:.04f}sm.pickle',\n",
    "    1_000, pbhmass=mass, ntoss=20000\n",
    "    )"
   ]
  },
  {
   "cell_type": "code",
   "execution_count": 38,
   "metadata": {},
   "outputs": [
    {
     "name": "stdout",
     "output_type": "stream",
     "text": [
      "/Volumes/thesis/rubin-sim/userdata/opsim_ml/test/ml_events_1k_0.1000sm.pickle\n",
      "/Volumes/thesis/rubin-sim/userdata/opsim_ml/test/ml_events_1k_1.0000sm.pickle\n",
      "/Volumes/thesis/rubin-sim/userdata/opsim_ml/test/ml_events_1k_10.0000sm.pickle\n"
     ]
    },
    {
     "name": "stderr",
     "output_type": "stream",
     "text": [
      "/Users/duncan/Documents/code/physics/microlensing/rubin-sim-ml/rubinml/rubinml/plots.py:213: RuntimeWarning: Mean of empty slice.\n",
      "  return events[meancol].to_numpy().mean()\n",
      "/Users/duncan/mambaforge/envs/rubinsim/lib/python3.11/site-packages/numpy/core/_methods.py:129: RuntimeWarning: invalid value encountered in divide\n",
      "  ret = ret.dtype.type(ret / rcount)\n",
      "/Users/duncan/Documents/code/physics/microlensing/rubin-sim-ml/rubinml/rubinml/plots.py:213: RuntimeWarning: Mean of empty slice.\n",
      "  return events[meancol].to_numpy().mean()\n",
      "/Users/duncan/mambaforge/envs/rubinsim/lib/python3.11/site-packages/numpy/core/_methods.py:129: RuntimeWarning: invalid value encountered in divide\n",
      "  ret = ret.dtype.type(ret / rcount)\n",
      "/Users/duncan/Documents/code/physics/microlensing/rubin-sim-ml/rubinml/rubinml/plots.py:213: RuntimeWarning: Mean of empty slice.\n",
      "  return events[meancol].to_numpy().mean()\n",
      "/Users/duncan/mambaforge/envs/rubinsim/lib/python3.11/site-packages/numpy/core/_methods.py:129: RuntimeWarning: invalid value encountered in divide\n",
      "  ret = ret.dtype.type(ret / rcount)\n",
      "/Users/duncan/Documents/code/physics/microlensing/rubin-sim-ml/rubinml/rubinml/plots.py:213: RuntimeWarning: Mean of empty slice.\n",
      "  return events[meancol].to_numpy().mean()\n",
      "/Users/duncan/mambaforge/envs/rubinsim/lib/python3.11/site-packages/numpy/core/_methods.py:129: RuntimeWarning: invalid value encountered in divide\n",
      "  ret = ret.dtype.type(ret / rcount)\n",
      "/Users/duncan/Documents/code/physics/microlensing/rubin-sim-ml/rubinml/rubinml/plots.py:213: RuntimeWarning: Mean of empty slice.\n",
      "  return events[meancol].to_numpy().mean()\n",
      "/Users/duncan/mambaforge/envs/rubinsim/lib/python3.11/site-packages/numpy/core/_methods.py:129: RuntimeWarning: invalid value encountered in divide\n",
      "  ret = ret.dtype.type(ret / rcount)\n",
      "/Users/duncan/Documents/code/physics/microlensing/rubin-sim-ml/rubinml/rubinml/plots.py:213: RuntimeWarning: Mean of empty slice.\n",
      "  return events[meancol].to_numpy().mean()\n",
      "/Users/duncan/mambaforge/envs/rubinsim/lib/python3.11/site-packages/numpy/core/_methods.py:129: RuntimeWarning: invalid value encountered in divide\n",
      "  ret = ret.dtype.type(ret / rcount)\n"
     ]
    },
    {
     "name": "stdout",
     "output_type": "stream",
     "text": [
      "/Volumes/thesis/rubin-sim/userdata/opsim_ml/test/ml_events_1k_100.0000sm.pickle\n"
     ]
    }
   ],
   "source": [
    "for eventfile in glob.glob(basedir+'test/*.pickle'):\n",
    "  print(eventfile)\n",
    "  with open(eventfile, 'rb') as f:\n",
    "    event_df, events_info = pickle.load(f)\n",
    "    full_event_df = rubinml.events.make_full_event_df(event_df, sources)\n",
    "  rubinml.plots.make_event_plots(full_event_df, outdir=basedir+'test/', name=f'1k_{events_info[\"pbhmass\"]:.04f}sm')"
   ]
  },
  {
   "cell_type": "code",
   "execution_count": 35,
   "metadata": {},
   "outputs": [
    {
     "data": {
      "text/html": [
       "<div>\n",
       "<style scoped>\n",
       "    .dataframe tbody tr th:only-of-type {\n",
       "        vertical-align: middle;\n",
       "    }\n",
       "\n",
       "    .dataframe tbody tr th {\n",
       "        vertical-align: top;\n",
       "    }\n",
       "\n",
       "    .dataframe thead th {\n",
       "        text-align: right;\n",
       "    }\n",
       "</style>\n",
       "<table border=\"1\" class=\"dataframe\">\n",
       "  <thead>\n",
       "    <tr style=\"text-align: right;\">\n",
       "      <th></th>\n",
       "      <th>source_index</th>\n",
       "      <th>gall</th>\n",
       "      <th>galb</th>\n",
       "      <th>mu0</th>\n",
       "      <th>dl</th>\n",
       "      <th>umin</th>\n",
       "      <th>crossing_time</th>\n",
       "      <th>lograte</th>\n",
       "    </tr>\n",
       "  </thead>\n",
       "  <tbody>\n",
       "    <tr>\n",
       "      <th>0</th>\n",
       "      <td>5908576</td>\n",
       "      <td>276.430049</td>\n",
       "      <td>-33.403614</td>\n",
       "      <td>18.440001</td>\n",
       "      <td>9.269270</td>\n",
       "      <td>4.737998</td>\n",
       "      <td>20638.493015</td>\n",
       "      <td>-24.929739</td>\n",
       "    </tr>\n",
       "    <tr>\n",
       "      <th>1</th>\n",
       "      <td>9291627</td>\n",
       "      <td>358.938097</td>\n",
       "      <td>-6.282468</td>\n",
       "      <td>14.350000</td>\n",
       "      <td>3.901434</td>\n",
       "      <td>3.414489</td>\n",
       "      <td>5714.813077</td>\n",
       "      <td>-25.404937</td>\n",
       "    </tr>\n",
       "    <tr>\n",
       "      <th>2</th>\n",
       "      <td>8554099</td>\n",
       "      <td>8.486493</td>\n",
       "      <td>5.752153</td>\n",
       "      <td>15.350000</td>\n",
       "      <td>4.643089</td>\n",
       "      <td>1.483686</td>\n",
       "      <td>10260.395680</td>\n",
       "      <td>-24.838684</td>\n",
       "    </tr>\n",
       "    <tr>\n",
       "      <th>3</th>\n",
       "      <td>5887341</td>\n",
       "      <td>296.182163</td>\n",
       "      <td>0.764457</td>\n",
       "      <td>15.400000</td>\n",
       "      <td>7.334447</td>\n",
       "      <td>3.303628</td>\n",
       "      <td>8677.070054</td>\n",
       "      <td>-25.650676</td>\n",
       "    </tr>\n",
       "    <tr>\n",
       "      <th>4</th>\n",
       "      <td>8721471</td>\n",
       "      <td>21.602849</td>\n",
       "      <td>14.985946</td>\n",
       "      <td>14.250000</td>\n",
       "      <td>3.870681</td>\n",
       "      <td>2.231915</td>\n",
       "      <td>10196.412694</td>\n",
       "      <td>-26.371465</td>\n",
       "    </tr>\n",
       "    <tr>\n",
       "      <th>...</th>\n",
       "      <td>...</td>\n",
       "      <td>...</td>\n",
       "      <td>...</td>\n",
       "      <td>...</td>\n",
       "      <td>...</td>\n",
       "      <td>...</td>\n",
       "      <td>...</td>\n",
       "      <td>...</td>\n",
       "    </tr>\n",
       "    <tr>\n",
       "      <th>995</th>\n",
       "      <td>3166481</td>\n",
       "      <td>7.541717</td>\n",
       "      <td>-11.185366</td>\n",
       "      <td>13.050000</td>\n",
       "      <td>3.955200</td>\n",
       "      <td>3.389926</td>\n",
       "      <td>1306.492280</td>\n",
       "      <td>-27.459177</td>\n",
       "    </tr>\n",
       "    <tr>\n",
       "      <th>996</th>\n",
       "      <td>3818345</td>\n",
       "      <td>328.289219</td>\n",
       "      <td>-5.795627</td>\n",
       "      <td>14.250000</td>\n",
       "      <td>1.028632</td>\n",
       "      <td>4.742907</td>\n",
       "      <td>13955.862797</td>\n",
       "      <td>-28.885186</td>\n",
       "    </tr>\n",
       "    <tr>\n",
       "      <th>997</th>\n",
       "      <td>7893676</td>\n",
       "      <td>283.641973</td>\n",
       "      <td>-33.309377</td>\n",
       "      <td>18.504999</td>\n",
       "      <td>12.859222</td>\n",
       "      <td>0.913123</td>\n",
       "      <td>16950.313575</td>\n",
       "      <td>-24.526447</td>\n",
       "    </tr>\n",
       "    <tr>\n",
       "      <th>998</th>\n",
       "      <td>7777079</td>\n",
       "      <td>38.468521</td>\n",
       "      <td>-4.210169</td>\n",
       "      <td>15.500000</td>\n",
       "      <td>5.448371</td>\n",
       "      <td>0.008652</td>\n",
       "      <td>10819.929000</td>\n",
       "      <td>-25.142009</td>\n",
       "    </tr>\n",
       "    <tr>\n",
       "      <th>999</th>\n",
       "      <td>1223740</td>\n",
       "      <td>351.566175</td>\n",
       "      <td>-6.488286</td>\n",
       "      <td>12.750000</td>\n",
       "      <td>3.063648</td>\n",
       "      <td>4.925655</td>\n",
       "      <td>1601.633888</td>\n",
       "      <td>-28.494794</td>\n",
       "    </tr>\n",
       "  </tbody>\n",
       "</table>\n",
       "<p>1000 rows × 8 columns</p>\n",
       "</div>"
      ],
      "text/plain": [
       "     source_index        gall       galb        mu0         dl      umin  \\\n",
       "0         5908576  276.430049 -33.403614  18.440001   9.269270  4.737998   \n",
       "1         9291627  358.938097  -6.282468  14.350000   3.901434  3.414489   \n",
       "2         8554099    8.486493   5.752153  15.350000   4.643089  1.483686   \n",
       "3         5887341  296.182163   0.764457  15.400000   7.334447  3.303628   \n",
       "4         8721471   21.602849  14.985946  14.250000   3.870681  2.231915   \n",
       "..            ...         ...        ...        ...        ...       ...   \n",
       "995       3166481    7.541717 -11.185366  13.050000   3.955200  3.389926   \n",
       "996       3818345  328.289219  -5.795627  14.250000   1.028632  4.742907   \n",
       "997       7893676  283.641973 -33.309377  18.504999  12.859222  0.913123   \n",
       "998       7777079   38.468521  -4.210169  15.500000   5.448371  0.008652   \n",
       "999       1223740  351.566175  -6.488286  12.750000   3.063648  4.925655   \n",
       "\n",
       "     crossing_time    lograte  \n",
       "0     20638.493015 -24.929739  \n",
       "1      5714.813077 -25.404937  \n",
       "2     10260.395680 -24.838684  \n",
       "3      8677.070054 -25.650676  \n",
       "4     10196.412694 -26.371465  \n",
       "..             ...        ...  \n",
       "995    1306.492280 -27.459177  \n",
       "996   13955.862797 -28.885186  \n",
       "997   16950.313575 -24.526447  \n",
       "998   10819.929000 -25.142009  \n",
       "999    1601.633888 -28.494794  \n",
       "\n",
       "[1000 rows x 8 columns]"
      ]
     },
     "execution_count": 35,
     "metadata": {},
     "output_type": "execute_result"
    }
   ],
   "source": [
    "event_df"
   ]
  },
  {
   "cell_type": "code",
   "execution_count": 8,
   "metadata": {},
   "outputs": [],
   "source": [
    "data = np.load('test_microlensing_dm_rubinsim_1sm/baseline_v3_3_10yrs_MicrolensingMetric_detect_tE_0_30000_days_USER.npz', allow_pickle=True)"
   ]
  },
  {
   "cell_type": "code",
   "execution_count": 9,
   "metadata": {},
   "outputs": [
    {
     "data": {
      "text/plain": [
       "array({'metric_name': 'MicrolensingMetric_detect', 'constraint': '', 'info_label': 'tE 0_30000 days', 'sim_data_name': 'baseline_v3.3_10yrs', 'date_ran': '2024-09-24', 'display_dict': {'group': None, 'subgroup': None, 'order': 0, 'caption': 'MicrolensingMetric_detect calculated on a UserPointsSlicer basis.'}, 'plot_dict': {}, 'summary_values': None, '__version__': '2.0.1.dev124+g783a21bb', '__repo_version__': None, '__fingerprint__': None, '__dependency_versions__': None},\n",
       "      dtype=object)"
      ]
     },
     "execution_count": 9,
     "metadata": {},
     "output_type": "execute_result"
    }
   ],
   "source": [
    "data['header']"
   ]
  },
  {
   "cell_type": "code",
   "execution_count": 13,
   "metadata": {},
   "outputs": [
    {
     "data": {
      "text/plain": [
       "['header',\n",
       " 'metric_values',\n",
       " 'mask',\n",
       " 'fill',\n",
       " 'slicer_init',\n",
       " 'slicer_name',\n",
       " 'slice_points',\n",
       " 'slicer_n_slice',\n",
       " 'slicer_shape']"
      ]
     },
     "execution_count": 13,
     "metadata": {},
     "output_type": "execute_result"
    }
   ],
   "source": [
    "list(data.keys())"
   ]
  },
  {
   "cell_type": "code",
   "execution_count": 15,
   "metadata": {},
   "outputs": [
    {
     "data": {
      "text/plain": [
       "(336265,)"
      ]
     },
     "execution_count": 15,
     "metadata": {},
     "output_type": "execute_result"
    }
   ],
   "source": [
    "data['metric_values'].shape"
   ]
  },
  {
   "cell_type": "code",
   "execution_count": null,
   "metadata": {},
   "outputs": [],
   "source": []
  }
 ],
 "metadata": {
  "kernelspec": {
   "display_name": "rubinsim",
   "language": "python",
   "name": "python3"
  },
  "language_info": {
   "codemirror_mode": {
    "name": "ipython",
    "version": 3
   },
   "file_extension": ".py",
   "mimetype": "text/x-python",
   "name": "python",
   "nbconvert_exporter": "python",
   "pygments_lexer": "ipython3",
   "version": "3.11.9"
  }
 },
 "nbformat": 4,
 "nbformat_minor": 2
}
